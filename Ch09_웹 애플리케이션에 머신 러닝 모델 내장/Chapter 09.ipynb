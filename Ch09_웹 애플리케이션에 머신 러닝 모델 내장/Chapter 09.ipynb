{
 "cells": [
  {
   "cell_type": "markdown",
   "metadata": {},
   "source": [
    "# 9장 웹 애플리케이션에 머신 러닝 모델 내장\n",
    "\n",
    "- 머신 러닝 모델의 현재 훈련 상태 저장하기\n",
    "- SQLite 데이터베이스를 이용하여 데이터 저장하기\n",
    "- 유명한 플라스크(Flask) 웹 프레임워크를 이용하여 웹 애플리케이션 개발하기\n",
    "- 공개 웹 서버에 머신 러닝 애플리케이션 배포하기"
   ]
  },
  {
   "cell_type": "markdown",
   "metadata": {},
   "source": [
    "## 9.0 영화 리뷰 분류를 위한 모델 훈련하기"
   ]
  },
  {
   "cell_type": "code",
   "execution_count": 1,
   "metadata": {},
   "outputs": [
    {
     "name": "stderr",
     "output_type": "stream",
     "text": [
      "[nltk_data] Downloading package stopwords to\n",
      "[nltk_data]     C:\\Users\\wooil\\AppData\\Roaming\\nltk_data...\n",
      "[nltk_data]   Package stopwords is already up-to-date!\n"
     ]
    },
    {
     "data": {
      "text/plain": [
       "True"
      ]
     },
     "execution_count": 1,
     "metadata": {},
     "output_type": "execute_result"
    }
   ],
   "source": [
    "import gzip\n",
    "\n",
    "# 영화 리뷰 데이터 저장(Data 디렉토리에 csv file로 저장)\n",
    "with gzip.open('Data/movie_data.csv.gz') as f_in, open('Data/movie_data.csv','wb') as f_out:\n",
    "    f_out.writelines(f_in)\n",
    "    \n",
    "# 불용어 저장(~/nltk_data/corpora/stopwords 디렉토리에 저장)\n",
    "import nltk\n",
    "nltk.download('stopwords')"
   ]
  },
  {
   "cell_type": "code",
   "execution_count": 2,
   "metadata": {},
   "outputs": [],
   "source": [
    "import numpy as np\n",
    "import re\n",
    "from nltk.corpus import stopwords\n",
    "from nltk.stem import PorterStemmer\n",
    "\n",
    "stop = stopwords.words('english')\n",
    "porter = PorterStemmer() # \n",
    "\n",
    "def tokenizer(text):\n",
    "    text = re.sub('<[^>]*>', '', text)\n",
    "    emoticons = re.findall('(?::|;|=)(?:-)?(?:\\)|\\(|D|P)', text.lower())\n",
    "    text = re.sub('[\\W]+', ' ', text.lower()) + ' '.join(emoticons).replace('-', '')\n",
    "    tokenized = [w for w in text.split() if w not in stop]\n",
    "    return tokenized\n",
    "\n",
    "def stream_docs(path):\n",
    "    with open(path, 'r', encoding='utf-8') as csv:\n",
    "        next(csv) # skip header\n",
    "        for line in csv:\n",
    "            text, label = line[:-3], int(line[-2])\n",
    "            yield text, label"
   ]
  },
  {
   "cell_type": "code",
   "execution_count": 3,
   "metadata": {},
   "outputs": [
    {
     "data": {
      "text/plain": [
       "('\"In 1974, the teenager Martha Moxley (Maggie Grace) moves to the high-class area of Belle Haven, Greenwich, Connecticut. On the Mischief Night, eve of Halloween, she was murdered in the backyard of her house and her murder remained unsolved. Twenty-two years later, the writer Mark Fuhrman (Christopher Meloni), who is a former LA detective that has fallen in disgrace for perjury in O.J. Simpson trial and moved to Idaho, decides to investigate the case with his partner Stephen Weeks (Andrew Mitchell) with the purpose of writing a book. The locals squirm and do not welcome them, but with the support of the retired detective Steve Carroll (Robert Forster) that was in charge of the investigation in the 70\\'s, they discover the criminal and a net of power and money to cover the murder.<br /><br />\"\"Murder in Greenwich\"\" is a good TV movie, with the true story of a murder of a fifteen years old girl that was committed by a wealthy teenager whose mother was a Kennedy. The powerful and rich family used their influence to cover the murder for more than twenty years. However, a snoopy detective and convicted perjurer in disgrace was able to disclose how the hideous crime was committed. The screenplay shows the investigation of Mark and the last days of Martha in parallel, but there is a lack of the emotion in the dramatization. My vote is seven.<br /><br />Title (Brazil): Not Available\"',\n",
       " 1)"
      ]
     },
     "execution_count": 3,
     "metadata": {},
     "output_type": "execute_result"
    }
   ],
   "source": [
    "next(stream_docs(path='Data/movie_data.csv'))"
   ]
  },
  {
   "cell_type": "code",
   "execution_count": 4,
   "metadata": {},
   "outputs": [],
   "source": [
    "def get_minibatch(doc_stream, size):\n",
    "    docs, y = [], []\n",
    "    try:\n",
    "        for _ in range(size):\n",
    "            text, label = next(doc_stream)\n",
    "            docs.append(text)\n",
    "            y.append(label)\n",
    "    except StopIteration:\n",
    "        return None, None\n",
    "    return docs, y"
   ]
  },
  {
   "cell_type": "code",
   "execution_count": 5,
   "metadata": {},
   "outputs": [],
   "source": [
    "from sklearn.feature_extraction.text import HashingVectorizer\n",
    "from sklearn.linear_model import SGDClassifier\n",
    "\n",
    "vect = HashingVectorizer(decode_error='ignore', \n",
    "                         n_features=2**21,\n",
    "                         preprocessor=None, \n",
    "                         tokenizer=tokenizer)\n",
    "\n",
    "clf = SGDClassifier(loss='log', random_state=1, max_iter=1)\n",
    "doc_stream = stream_docs(path='Data/movie_data.csv')"
   ]
  },
  {
   "cell_type": "code",
   "execution_count": 6,
   "metadata": {},
   "outputs": [
    {
     "name": "stderr",
     "output_type": "stream",
     "text": [
      "0% [##############################] 100% | ETA: 00:00:00\n",
      "Total time elapsed: 00:00:29\n"
     ]
    }
   ],
   "source": [
    "import pyprind\n",
    "pbar = pyprind.ProgBar(45)\n",
    "\n",
    "classes = np.array([0, 1])\n",
    "for _ in range(45):\n",
    "    X_train, y_train = get_minibatch(doc_stream, size=1000)\n",
    "    if not X_train:\n",
    "        break\n",
    "    X_train = vect.transform(X_train)\n",
    "    clf.partial_fit(X_train, y_train, classes=classes)\n",
    "    pbar.update()"
   ]
  },
  {
   "cell_type": "code",
   "execution_count": 7,
   "metadata": {},
   "outputs": [
    {
     "name": "stdout",
     "output_type": "stream",
     "text": [
      "정확도: 0.868\n"
     ]
    }
   ],
   "source": [
    "X_test, y_test = get_minibatch(doc_stream, size=5000)\n",
    "X_test = vect.transform(X_test)\n",
    "print('정확도: %.3f' % clf.score(X_test, y_test))"
   ]
  },
  {
   "cell_type": "code",
   "execution_count": 8,
   "metadata": {},
   "outputs": [
    {
     "data": {
      "text/plain": [
       "SGDClassifier(alpha=0.0001, average=False, class_weight=None,\n",
       "              early_stopping=False, epsilon=0.1, eta0=0.0, fit_intercept=True,\n",
       "              l1_ratio=0.15, learning_rate='optimal', loss='log', max_iter=1,\n",
       "              n_iter_no_change=5, n_jobs=None, penalty='l2', power_t=0.5,\n",
       "              random_state=1, shuffle=True, tol=0.001, validation_fraction=0.1,\n",
       "              verbose=0, warm_start=False)"
      ]
     },
     "execution_count": 8,
     "metadata": {},
     "output_type": "execute_result"
    }
   ],
   "source": [
    "clf = clf.partial_fit(X_test, y_test)\n",
    "clf"
   ]
  },
  {
   "cell_type": "markdown",
   "metadata": {},
   "source": [
    "## 9.1 학습된 사이킷런 추정기 저장\n",
    "\n",
    "- [pickle 모듈 공식 문서](https://docs.python.org/3.7/library/pickle.html)  \n",
    "**파이썬 객체**의 구조를 압축된 **바이트코드(bytecode)**로 직렬화하고 복원할 수 있음  \n",
    "\n",
    "\n",
    "- **(참고사항)**  \n",
    "직렬화(serialization) : 데이터나 객체의 현재 상태를 디스크에 저장하거나 네트워크로 전송할 수 있도록 변환하는 과정.  \n",
    "joblib 모듈 : numpy array 객체를 직렬화할 때 효율적인 모듈 [공식문서](https://joblib.readthedocs.io/en/latest/)"
   ]
  },
  {
   "cell_type": "code",
   "execution_count": 9,
   "metadata": {},
   "outputs": [],
   "source": [
    "import pickle\n",
    "import os\n",
    "\n",
    "# 피클 파일 저장할 디렉토리 생성\n",
    "dest = os.path.join('movieclassifier', 'pkl_objects')\n",
    "if not os.path.exists(dest):\n",
    "    os.makedirs(dest)\n",
    "\n",
    "# 불용어 저장\n",
    "pickle.dump(stop, open(os.path.join(dest, 'stopwords.pkl'), 'wb'), protocol=4)\n",
    "\n",
    "# 모델 저장\n",
    "pickle.dump(clf, open(os.path.join(dest, 'classifier.pkl'), 'wb'), protocol=4)"
   ]
  },
  {
   "cell_type": "markdown",
   "metadata": {},
   "source": [
    "### movieclassifier/vectorizer.py 파일 생성 (추후 임포트하여 사용하기 위함)\n",
    "\n",
    "```python\n",
    "from sklearn.feature_extraction.text import HashingVectorizer\n",
    "import re\n",
    "import os\n",
    "import pickle\n",
    "\n",
    "cur_dir = os.path.dirname(__file__)\n",
    "stop = pickle.load(open(\n",
    "                os.path.join(cur_dir, \n",
    "                'pkl_objects', \n",
    "                'stopwords.pkl'), 'rb'))\n",
    "\n",
    "def tokenizer(text):\n",
    "    text = re.sub('<[^>]*>', '', text)\n",
    "    emoticons = re.findall('(?::|;|=)(?:-)?(?:\\)|\\(|D|P)',\n",
    "                           text.lower())\n",
    "    text = re.sub('[\\W]+', ' ', text.lower()) \\\n",
    "                   + ' '.join(emoticons).replace('-', '')\n",
    "    tokenized = [w for w in text.split() if w not in stop]\n",
    "    return tokenized\n",
    "\n",
    "vect = HashingVectorizer(decode_error='ignore',\n",
    "                         n_features=2**21,\n",
    "                         preprocessor=None,\n",
    "                         tokenizer=tokenizer)\n",
    "```"
   ]
  },
  {
   "cell_type": "markdown",
   "metadata": {},
   "source": [
    "### 테스트를 위해 커널 재시작\n",
    "\n",
    "이 단계에서 커널을 초기화한 후 아래 코드를 실행하면 앞서 저장했던 모델 객체가 불러와집니다."
   ]
  },
  {
   "cell_type": "code",
   "execution_count": 10,
   "metadata": {},
   "outputs": [],
   "source": [
    "import os\n",
    "os.chdir('movieclassifier')\n",
    "import pickle\n",
    "import re\n",
    "from vectorizer import vect # 저장한 불용어 객체는 여기서 불러와집니다.\n",
    "\n",
    "clf = pickle.load(open(os.path.join('pkl_objects', 'classifier.pkl'), 'rb'))"
   ]
  },
  {
   "cell_type": "code",
   "execution_count": 11,
   "metadata": {},
   "outputs": [
    {
     "name": "stdout",
     "output_type": "stream",
     "text": [
      "리뷰: I love this movie \n",
      "예측: 긍정적 \n",
      "확률: 81.4% \n",
      "\n",
      "리뷰: This movie is too boring. \n",
      "예측: 부정적 \n",
      "확률: 97.0% \n",
      "\n",
      "리뷰: Not bad. \n",
      "예측: 부정적 \n",
      "확률: 99.6% \n",
      "\n",
      "리뷰: Awesome!!! \n",
      "예측: 긍정적 \n",
      "확률: 83.2% \n",
      "\n"
     ]
    }
   ],
   "source": [
    "import numpy as np\n",
    "label = {0:'부정적', 1:'긍정적'}\n",
    "\n",
    "example = [\n",
    "           'I love this movie',           # 1 (긍정적)\n",
    "           'This movie is too boring.',   # 0 (부정적)\n",
    "           'Not bad.',                    # 0 (부정적)\n",
    "           'Awesome!!!',                  # 1 (긍정적)\n",
    "           ]\n",
    "\n",
    "X = vect.transform(example)\n",
    "\n",
    "pred = clf.predict(X)\n",
    "proba = clf.predict_proba(X)*100\n",
    "\n",
    "for i in range(len(pred)):\n",
    "    print(\"리뷰: {} \\n예측: {} \\n확률: {}% \\n\".format(example[i], label[pred[i]], np.round(np.max(proba[i]),1)))"
   ]
  },
  {
   "cell_type": "markdown",
   "metadata": {},
   "source": [
    "## 9.2 데이터를 저장하기 위해 SQLite 데이터베이스 설정"
   ]
  },
  {
   "cell_type": "code",
   "execution_count": 12,
   "metadata": {},
   "outputs": [
    {
     "data": {
      "text/plain": [
       "'D:\\\\github\\\\GDG_ML_Study\\\\ch09\\\\movieclassifier'"
      ]
     },
     "execution_count": 12,
     "metadata": {},
     "output_type": "execute_result"
    }
   ],
   "source": [
    "os.getcwd()"
   ]
  },
  {
   "cell_type": "code",
   "execution_count": 13,
   "metadata": {},
   "outputs": [],
   "source": [
    "import sqlite3\n",
    "\n",
    "conn = sqlite3.connect('reviews.sqlite')\n",
    "c = conn.cursor()\n",
    "c.execute('DROP TABLE IF EXISTS review_db')\n",
    "c.execute('CREATE TABLE review_db (review TEXT, sentiment INTEGER, date TEXT)')\n",
    "\n",
    "example1 = 'I love this movie'\n",
    "c.execute(\"INSERT INTO review_db (review, sentiment, date) VALUES (?, ?, DATETIME('now'))\", (example1, 1))\n",
    "\n",
    "example2 = 'I disliked this movie'\n",
    "c.execute(\"INSERT INTO review_db (review, sentiment, date) VALUES (?, ?, DATETIME('now'))\", (example2, 0))\n",
    "\n",
    "conn.commit()\n",
    "conn.close()"
   ]
  },
  {
   "cell_type": "code",
   "execution_count": 14,
   "metadata": {},
   "outputs": [],
   "source": [
    "conn = sqlite3.connect('reviews.sqlite')\n",
    "c = conn.cursor()\n",
    "\n",
    "c.execute(\"SELECT * FROM review_db WHERE date BETWEEN '2017-01-01 10:10:10' AND DATETIME('now')\")\n",
    "results = c.fetchall()\n",
    "\n",
    "conn.close()"
   ]
  },
  {
   "cell_type": "code",
   "execution_count": 15,
   "metadata": {},
   "outputs": [
    {
     "name": "stdout",
     "output_type": "stream",
     "text": [
      "[('I love this movie', 1, '2020-02-03 08:20:11'), ('I disliked this movie', 0, '2020-02-03 08:20:11')]\n"
     ]
    }
   ],
   "source": [
    "print(results)"
   ]
  },
  {
   "cell_type": "markdown",
   "metadata": {},
   "source": [
    "## 9.3 플라스크 웹 애플리케이션 개발\n",
    "\n",
    "[Flask 공식 문서](http://flask.pocoo.org/docs)"
   ]
  },
  {
   "cell_type": "markdown",
   "metadata": {},
   "source": [
    "### 9.3.1 첫 번째 플라스크 애플리케이션\n",
    "\n",
    "#### 디렉토리 생성\n",
    "```\n",
    "1st_flask_app_1/\n",
    "    app.py\n",
    "    templates/\n",
    "        first_app.html\n",
    "```\n",
    "\n",
    "#### app.py\n",
    "\n",
    "```python\n",
    "from flask import Flask, render_template\n",
    "\n",
    "app = Flask(__name__)\n",
    "@app.route('/')\n",
    "def index():\n",
    "    return render_template('first_app.html')\n",
    "\n",
    "if __name__=='__main__':\n",
    "    app.run()\n",
    "```\n",
    "\n",
    "#### first_app.html\n",
    "\n",
    "```html\n",
    "<!doctype html>\n",
    "<html>\n",
    "  <head>\n",
    "    <title>첫 번째 애플리케이션</title>\n",
    "  </head>\n",
    "  <body>\n",
    "\n",
    "  <div>\n",
    "\t와우, 첫 번째 플라스크 웹 애플리케이션입니다!\n",
    "  </div>\n",
    "\n",
    "  </body>\n",
    "</html>\n",
    "```"
   ]
  },
  {
   "cell_type": "markdown",
   "metadata": {},
   "source": [
    "#### 로컬에서 플라스크 애플리케이션 실행하기\n",
    "\n",
    "- `app.py`파일이 위치한 디렉토리에서 터미널을 열고, 다음 명령어를 실행\n",
    "\n",
    "```bash\n",
    "python app.py\n",
    "```\n",
    "\n",
    "- Output\n",
    "\n",
    "```bash\n",
    " * Serving Flask app \"app\" (lazy loading)\n",
    " * Environment: production\n",
    "   WARNING: This is a development server. Do not use it in a production deployment.\n",
    "   Use a production WSGI server instead.\n",
    " * Debug mode: off\n",
    " * Running on http://127.0.0.1:5000/ (Press CTRL+C to quit)\n",
    "```\n",
    "\n",
    "- Output의 마지막 줄에 출력된 `http://127.0.0.1:5000`을 웹 브라우저에서 실행"
   ]
  },
  {
   "cell_type": "markdown",
   "metadata": {},
   "source": [
    "### 9.3.2 폼 검증과 화면 출력"
   ]
  },
  {
   "cell_type": "code",
   "execution_count": 16,
   "metadata": {},
   "outputs": [],
   "source": [
    "# WTFoarms 라이브러리 설치\n",
    "# !pip install wtforms"
   ]
  },
  {
   "cell_type": "markdown",
   "metadata": {},
   "source": [
    "#### 디렉토리 생성\n",
    "```\n",
    "1st_flask_app_2/\n",
    "    app.py\n",
    "    static/\n",
    "        style.css\n",
    "    templates/\n",
    "        _formhelpers.html\n",
    "        first_app.html\n",
    "        hello.html\n",
    "```\n",
    "\n",
    "#### app.py\n",
    "\n",
    "```python\n",
    "from flask import Flask, render_template, request\n",
    "from wtforms import Form, TextAreaField, validators\n",
    "\n",
    "app = Flask(__name__)\n",
    "\n",
    "class HelloForm(Form):\n",
    "    sayhello = TextAreaField('',[validators.DataRequired()])\n",
    "\n",
    "@app.route('/')\n",
    "def index():\n",
    "    form = HelloForm(request.form)\n",
    "    return render_template('first_app.html', form=form)\n",
    "\n",
    "@app.route('/hello', methods=['POST'])\n",
    "def hello():\n",
    "    form = HelloForm(request.form)\n",
    "    if request.method == 'POST' and form.validate():\n",
    "        name = request.form['sayhello']\n",
    "        return render_template('hello.html', name=name)\n",
    "    return render_template('first_app.html', form=form)\n",
    "\n",
    "if __name__ == '__main__':\n",
    "    app.run(debug=True)\n",
    "```\n",
    "\n",
    "#### _formhelpers.html\n",
    "\n",
    "```html\n",
    "{% macro render_field(field) %}\n",
    "  <dt>{{ field.label }}\n",
    "  <dd>{{ field(**kwargs)|safe }}\n",
    "  {% if field.errors %}\n",
    "    <ul class=errors>\n",
    "    {% for error in field.errors %}\n",
    "      <li>{{ error }}</li>\n",
    "    {% endfor %}\n",
    "    </ul>\n",
    "  {% endif %}\n",
    "  </dd>\n",
    "  </dt>\n",
    "{% endmacro %}\n",
    "```\n",
    "\n",
    "#### style.css\n",
    "\n",
    "```css\n",
    "body {\n",
    "\tfont-size: 2em;\n",
    "}\n",
    "```\n",
    "\n",
    "#### first_app.html\n",
    "\n",
    "```html\n",
    "<!doctype html>\n",
    "<html>\n",
    "  <head>\n",
    "    <title>첫 번째 애플리케이션</title>\n",
    "\t<link rel=\"stylesheet\" href=\"{{ url_for('static', filename='style.css') }}\">\n",
    "  </head>\n",
    "  <body>\n",
    "\n",
    "{% from \"_formhelpers.html\" import render_field %}\n",
    "\n",
    "<div>이름을 입력해 주세요.</div>\n",
    "<form method=post action=\"/hello\">\n",
    "\n",
    "  <dl>\n",
    "\t  {{ render_field(form.sayhello) }}\n",
    "  </dl>\n",
    "\n",
    "  <input type=submit value='이름 입력' name='submit_btn'>\n",
    "\n",
    "</form>\n",
    "\n",
    "  </body>\n",
    "</html>\n",
    "```\n",
    "\n",
    "\n",
    "#### hello.html\n",
    "\n",
    "```html\n",
    "<!doctype html>\n",
    "<html>\n",
    "  <head>\n",
    "    <title>첫 번째 애플리케이션</title>\n",
    "\t<link rel=\"stylesheet\" href=\"{{ url_for('static', filename='style.css') }}\">\n",
    "  </head>\n",
    "  <body>\n",
    "\n",
    "<div>{{ name }} 님 안녕하세요!</div>\n",
    "\n",
    "\n",
    "  </body>\n",
    "</html>\n",
    "```"
   ]
  },
  {
   "cell_type": "markdown",
   "metadata": {},
   "source": [
    "## 9.4 영화 리뷰 분류기를 웹 애플리케이션으로 만들기\n",
    "\n",
    "#### 디렉토리 생성\n",
    "\n",
    "[Directory](https://github.com/machinelearning-pangyo/python-machine-learning-book-2nd-edition/tree/master/Ch09_%EC%9B%B9%20%EC%95%A0%ED%94%8C%EB%A6%AC%EC%BC%80%EC%9D%B4%EC%85%98%EC%97%90%20%EB%A8%B8%EC%8B%A0%20%EB%9F%AC%EB%8B%9D%20%EB%AA%A8%EB%8D%B8%20%EB%82%B4%EC%9E%A5/movieclassifier)\n",
    "\n",
    "```\n",
    "movieclassifier/\n",
    "    pkl_objects/\n",
    "        classifier.pkl\n",
    "        stopwords.pkl\n",
    "    static/\n",
    "        style.css\n",
    "    templates/\n",
    "        _formhelpers.html\n",
    "        results.html\n",
    "        reviewform.html\n",
    "        thanks.html\n",
    "        \n",
    "    app.py\n",
    "    reviews.sqlite\n",
    "    vectorizer.py\n",
    "```"
   ]
  },
  {
   "cell_type": "markdown",
   "metadata": {},
   "source": [
    "### 웹으로 리뷰 작성 후 DB 확인"
   ]
  },
  {
   "cell_type": "code",
   "execution_count": 17,
   "metadata": {},
   "outputs": [
    {
     "data": {
      "text/plain": [
       "[('I love this movie', 1, '2020-02-03 08:20:11'),\n",
       " ('I disliked this movie', 0, '2020-02-03 08:20:11')]"
      ]
     },
     "execution_count": 17,
     "metadata": {},
     "output_type": "execute_result"
    }
   ],
   "source": [
    "conn = sqlite3.connect('reviews.sqlite')\n",
    "c = conn.cursor()\n",
    "\n",
    "c.execute(\"SELECT * FROM review_db WHERE date BETWEEN '2017-01-01 10:10:10' AND DATETIME('now')\")\n",
    "results = c.fetchall()\n",
    "\n",
    "conn.close()\n",
    "results"
   ]
  },
  {
   "cell_type": "markdown",
   "metadata": {},
   "source": [
    "## 9.5 공개 서버에 웹 애플리케이션 배포"
   ]
  },
  {
   "cell_type": "markdown",
   "metadata": {},
   "source": [
    "### 9.5.1 PythonAnywhere 계정 만들기\n",
    "\n",
    "[Pythonanywhere](https://www.pythonanywhere.com/)"
   ]
  },
  {
   "cell_type": "markdown",
   "metadata": {},
   "source": [
    "### 9.5.2 영화 분류 애플리케이션 업로드\n",
    "\n",
    "#### Pythonanywhere - 'Web' 탭\n",
    "\n",
    "- Add a new web app 클릭\n",
    "- Next 클릭\n",
    "- Flask 선택\n",
    "- Python 3.7 선택\n",
    "- /home/`USER NAME`/app.py 입력 (app.py 파일이 기본값으로 초기화되므로, 파일을 업로드 해줘야합니다.)\n",
    "\n",
    "\n",
    "#### Pythonanywhere - 'File' 탭\n",
    "\n",
    "- 수동으로 웹 애플리케이션이 있는 로컬 디렉토리 내 파일들을 업로드(가장 확실)\n",
    "- 교재 내용 참고하여 github repo를 bash로 복사하면 오류 발생했음.\n",
    "\n",
    "#### Pythonanywhere - 'Web' 탭\n",
    "\n",
    "- Reload 버튼 클릭\n",
    "\n",
    "\n",
    "[공개 서버에서 배포 중인 웹 애플리케이션](http://wooil.pythonanywhere.com/)"
   ]
  },
  {
   "cell_type": "markdown",
   "metadata": {},
   "source": [
    "### 9.5.3 영화 분류기 업데이트\n",
    "\n",
    "#### 디렉토리 생성\n",
    "\n",
    "[Directory](https://github.com/machinelearning-pangyo/python-machine-learning-book-2nd-edition/tree/master/Ch09_%EC%9B%B9%20%EC%95%A0%ED%94%8C%EB%A6%AC%EC%BC%80%EC%9D%B4%EC%85%98%EC%97%90%20%EB%A8%B8%EC%8B%A0%20%EB%9F%AC%EB%8B%9D%20%EB%AA%A8%EB%8D%B8%20%EB%82%B4%EC%9E%A5/movieclassifier_with_update)\n",
    "\n",
    "\n",
    "```\n",
    "movieclassifier_with_update/\n",
    "    pkl_objects/\n",
    "        classifier.pkl\n",
    "        stopwords.pkl\n",
    "    static/\n",
    "        style.css\n",
    "    templates/\n",
    "        _formhelpers.html\n",
    "        results.html\n",
    "        reviewform.html\n",
    "        thanks.html\n",
    "        \n",
    "    app.py\n",
    "    reviews.sqlite\n",
    "    update.py\n",
    "    vectorizer.py\n",
    "```"
   ]
  }
 ],
 "metadata": {
  "kernelspec": {
   "display_name": "Python 3",
   "language": "python",
   "name": "python3"
  },
  "language_info": {
   "codemirror_mode": {
    "name": "ipython",
    "version": 3
   },
   "file_extension": ".py",
   "mimetype": "text/x-python",
   "name": "python",
   "nbconvert_exporter": "python",
   "pygments_lexer": "ipython3",
   "version": "3.7.6"
  }
 },
 "nbformat": 4,
 "nbformat_minor": 2
}
